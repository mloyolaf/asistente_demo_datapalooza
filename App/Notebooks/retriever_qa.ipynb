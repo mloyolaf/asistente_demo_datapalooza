{
 "cells": [
  {
   "cell_type": "code",
   "execution_count": 1,
   "metadata": {},
   "outputs": [],
   "source": [
    "import os\n",
    "from dotenv import load_dotenv\n",
    "from langchain.chat_models import AzureChatOpenAI\n",
    "load_dotenv()\n",
    "import warnings\n",
    "warnings.filterwarnings(\"ignore\")\n",
    " \n",
    "api_key = os.getenv('OPENAI_API_KEY')\n",
    "model = AzureChatOpenAI(temperature=0, deployment_name=\"chat\")\n",
    "\n"
   ]
  },
  {
   "cell_type": "code",
   "execution_count": 2,
   "metadata": {},
   "outputs": [],
   "source": [
    "\n",
    "\n",
    "from langchain.chains import RetrievalQA\n",
    "from langchain.text_splitter import RecursiveCharacterTextSplitter\n",
    "from langchain_community.vectorstores import Chroma\n",
    "from langchain_community.embeddings.sentence_transformer import (\n",
    "    SentenceTransformerEmbeddings,\n",
    ")\n",
    "from langchain.document_loaders import PyPDFLoader\n",
    "embedding_function = SentenceTransformerEmbeddings(model_name=\"all-MiniLM-L6-v2\")\n",
    "document = PyPDFLoader(\"../Resources/GCP.pdf\")\n",
    "data = document.load()\n",
    "text_splitter = RecursiveCharacterTextSplitter(\n",
    "        chunk_size = 500,\n",
    "        length_function = len,\n",
    "        chunk_overlap = 250\n",
    ")\n",
    "\n",
    "documents = text_splitter.split_documents(data)\n",
    "db = Chroma.from_documents(documents, embedding_function)\n",
    "chain_qa = RetrievalQA.from_chain_type(\n",
    "    llm=model,\n",
    "    chain_type=\"map_reduce\",\n",
    "    retriever = db.as_retriever(search_kwargs={\"k\": 5})\n",
    ")\n"
   ]
  },
  {
   "cell_type": "code",
   "execution_count": 3,
   "metadata": {},
   "outputs": [
    {
     "data": {
      "text/plain": [
       "{'query': 'Qué es BigQuery',\n",
       " 'result': 'BigQuery es un servicio de almacenamiento y análisis de datos en la nube ofrecido por Google Cloud. Permite a los usuarios almacenar grandes volúmenes de datos estructurados y no estructurados, y realizar consultas y análisis rápidos sobre ellos utilizando SQL. BigQuery es altamente escalable y puede manejar conjuntos de datos de varios terabytes o incluso petabytes. También ofrece características avanzadas como el procesamiento paralelo masivo y la capacidad de integrarse con otras herramientas y servicios de Google Cloud. Además, BigQuery también ofrece capacidades de aprendizaje automático a través de BigQuery ML, lo que permite a los usuarios crear y entrenar modelos de aprendizaje automático directamente en los datos almacenados en BigQuery.'}"
      ]
     },
     "execution_count": 3,
     "metadata": {},
     "output_type": "execute_result"
    }
   ],
   "source": [
    "chain_qa.invoke(\"Qué es BigQuery\")"
   ]
  },
  {
   "cell_type": "code",
   "execution_count": null,
   "metadata": {},
   "outputs": [],
   "source": []
  }
 ],
 "metadata": {
  "kernelspec": {
   "display_name": "venv",
   "language": "python",
   "name": "python3"
  },
  "language_info": {
   "codemirror_mode": {
    "name": "ipython",
    "version": 3
   },
   "file_extension": ".py",
   "mimetype": "text/x-python",
   "name": "python",
   "nbconvert_exporter": "python",
   "pygments_lexer": "ipython3",
   "version": "3.11.6"
  }
 },
 "nbformat": 4,
 "nbformat_minor": 2
}
