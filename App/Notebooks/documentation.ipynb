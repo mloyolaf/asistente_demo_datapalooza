{
 "cells": [
  {
   "cell_type": "code",
   "execution_count": 1,
   "metadata": {},
   "outputs": [
    {
     "name": "stderr",
     "output_type": "stream",
     "text": [
      "c:\\Users\\mloyolaf\\OneDrive - NTT DATA EMEAL\\Escritorio\\Ignacia\\Workbench\\asistente_demo_datapalooza\\venv\\Lib\\site-packages\\tqdm\\auto.py:21: TqdmWarning: IProgress not found. Please update jupyter and ipywidgets. See https://ipywidgets.readthedocs.io/en/stable/user_install.html\n",
      "  from .autonotebook import tqdm as notebook_tqdm\n"
     ]
    }
   ],
   "source": [
    "import pandas as pd\n",
    "from langchain_community.document_loaders import TextLoader\n",
    "from langchain.embeddings import OpenAIEmbeddings\n",
    "from langchain.chains import RetrievalQA\n",
    "from langchain.text_splitter import CharacterTextSplitter\n",
    "from langchain_community.vectorstores import Chroma\n",
    "import pandas as pd\n",
    "from langchain_community.embeddings.sentence_transformer import (\n",
    "    SentenceTransformerEmbeddings,\n",
    ")\n",
    "\n",
    "embedding_function = SentenceTransformerEmbeddings(model_name=\"all-MiniLM-L6-v2\")\n",
    "\n"
   ]
  },
  {
   "cell_type": "code",
   "execution_count": 2,
   "metadata": {},
   "outputs": [],
   "source": [
    "from langchain.document_loaders import PyPDFLoader\n",
    "from langchain.text_splitter import RecursiveCharacterTextSplitter\n",
    "loader = PyPDFLoader(\"../Resources/GCP.pdf\")\n",
    "data = loader.load()\n",
    "text_splitter = RecursiveCharacterTextSplitter(\n",
    "        chunk_size = 500,\n",
    "        length_function = len,\n",
    "        chunk_overlap = 250\n",
    ")\n",
    "\n",
    "documents = text_splitter.split_documents(data)"
   ]
  },
  {
   "cell_type": "code",
   "execution_count": null,
   "metadata": {},
   "outputs": [],
   "source": [
    "def dataframe_documentation(documents:list):\n",
    "    data = pd.DataFrame()\n",
    "    page_content = []\n",
    "    metadata = []\n",
    "    for line in range(len(documents)):\n",
    "        page_content.append(documents[line].page_content)\n",
    "        metadata.append(documents[line].metadata)\n",
    "    data[\"page_content\"] = page_content\n",
    "    data[\"metadata\"] = metadata\n",
    "    return data\n",
    "\n"
   ]
  },
  {
   "cell_type": "code",
   "execution_count": 3,
   "metadata": {},
   "outputs": [
    {
     "data": {
      "text/html": [
       "<div>\n",
       "<style scoped>\n",
       "    .dataframe tbody tr th:only-of-type {\n",
       "        vertical-align: middle;\n",
       "    }\n",
       "\n",
       "    .dataframe tbody tr th {\n",
       "        vertical-align: top;\n",
       "    }\n",
       "\n",
       "    .dataframe thead th {\n",
       "        text-align: right;\n",
       "    }\n",
       "</style>\n",
       "<table border=\"1\" class=\"dataframe\">\n",
       "  <thead>\n",
       "    <tr style=\"text-align: right;\">\n",
       "      <th></th>\n",
       "      <th>page_content</th>\n",
       "      <th>metadata</th>\n",
       "    </tr>\n",
       "  </thead>\n",
       "  <tbody>\n",
       "    <tr>\n",
       "      <th>0</th>\n",
       "      <td>Visualizing\\nVergadia816324_ffirs.indd   1 25-...</td>\n",
       "      <td>{'source': '../Resources/GCP.pdf', 'page': 2}</td>\n",
       "    </tr>\n",
       "    <tr>\n",
       "      <th>1</th>\n",
       "      <td>Vergadia816324_ffirs.indd   2 25-02-2022   15:...</td>\n",
       "      <td>{'source': '../Resources/GCP.pdf', 'page': 3}</td>\n",
       "    </tr>\n",
       "  </tbody>\n",
       "</table>\n",
       "</div>"
      ],
      "text/plain": [
       "                                        page_content  \\\n",
       "0  Visualizing\\nVergadia816324_ffirs.indd   1 25-...   \n",
       "1  Vergadia816324_ffirs.indd   2 25-02-2022   15:...   \n",
       "\n",
       "                                        metadata  \n",
       "0  {'source': '../Resources/GCP.pdf', 'page': 2}  \n",
       "1  {'source': '../Resources/GCP.pdf', 'page': 3}  "
      ]
     },
     "execution_count": 3,
     "metadata": {},
     "output_type": "execute_result"
    }
   ],
   "source": [
    "documents_data = dataframe_documentation(documents)\n",
    "documents_data.head(2)"
   ]
  },
  {
   "cell_type": "code",
   "execution_count": null,
   "metadata": {},
   "outputs": [],
   "source": [
    "# Creando los nuevos embeddings \n",
    "\n",
    "def created_embeddings(data:object, embeddings=embedding_function):\n",
    "    col_index = data.columns.get_loc('page_content')\n",
    "    vectors = []\n",
    "    for index in range(data.shape[0]):\n",
    "        val = embeddings.embed_query(data.iloc[index, col_index])\n",
    "        vectors.append(val)\n",
    "    data[\"embeddings\"] = vectors\n",
    "    return data"
   ]
  },
  {
   "cell_type": "code",
   "execution_count": 4,
   "metadata": {},
   "outputs": [
    {
     "data": {
      "text/html": [
       "<div>\n",
       "<style scoped>\n",
       "    .dataframe tbody tr th:only-of-type {\n",
       "        vertical-align: middle;\n",
       "    }\n",
       "\n",
       "    .dataframe tbody tr th {\n",
       "        vertical-align: top;\n",
       "    }\n",
       "\n",
       "    .dataframe thead th {\n",
       "        text-align: right;\n",
       "    }\n",
       "</style>\n",
       "<table border=\"1\" class=\"dataframe\">\n",
       "  <thead>\n",
       "    <tr style=\"text-align: right;\">\n",
       "      <th></th>\n",
       "      <th>page_content</th>\n",
       "      <th>metadata</th>\n",
       "      <th>embeddings</th>\n",
       "    </tr>\n",
       "  </thead>\n",
       "  <tbody>\n",
       "    <tr>\n",
       "      <th>0</th>\n",
       "      <td>Visualizing\\nVergadia816324_ffirs.indd   1 25-...</td>\n",
       "      <td>{'source': '../Resources/GCP.pdf', 'page': 2}</td>\n",
       "      <td>[0.017832061275839806, 0.02583828940987587, -0...</td>\n",
       "    </tr>\n",
       "    <tr>\n",
       "      <th>1</th>\n",
       "      <td>Vergadia816324_ffirs.indd   2 25-02-2022   15:...</td>\n",
       "      <td>{'source': '../Resources/GCP.pdf', 'page': 3}</td>\n",
       "      <td>[-0.036654166877269745, 0.03949139639735222, -...</td>\n",
       "    </tr>\n",
       "    <tr>\n",
       "      <th>2</th>\n",
       "      <td>Priyanka Vergadia\\nIllustrated References for ...</td>\n",
       "      <td>{'source': '../Resources/GCP.pdf', 'page': 4}</td>\n",
       "      <td>[-0.017715079709887505, 0.07079383730888367, -...</td>\n",
       "    </tr>\n",
       "    <tr>\n",
       "      <th>3</th>\n",
       "      <td>Copyright © 2022 by Google, LLC. All rights re...</td>\n",
       "      <td>{'source': '../Resources/GCP.pdf', 'page': 5}</td>\n",
       "      <td>[-0.0044191270135343075, -0.021689217537641525...</td>\n",
       "    </tr>\n",
       "    <tr>\n",
       "      <th>4</th>\n",
       "      <td>ISBN: 978- 1- 119- 81637- 9 (ebk)\\nISBN: 978- ...</td>\n",
       "      <td>{'source': '../Resources/GCP.pdf', 'page': 5}</td>\n",
       "      <td>[-0.07486551254987717, 0.046314872801303864, -...</td>\n",
       "    </tr>\n",
       "    <tr>\n",
       "      <th>...</th>\n",
       "      <td>...</td>\n",
       "      <td>...</td>\n",
       "      <td>...</td>\n",
       "    </tr>\n",
       "    <tr>\n",
       "      <th>1762</th>\n",
       "      <td>Security 247\\nSecurity Monitoring and Operatio...</td>\n",
       "      <td>{'source': '../Resources/GCP.pdf', 'page': 256}</td>\n",
       "      <td>[-0.02674219012260437, -0.05542406812310219, -...</td>\n",
       "    </tr>\n",
       "    <tr>\n",
       "      <th>1763</th>\n",
       "      <td>• Security Command Center: Continuously monito...</td>\n",
       "      <td>{'source': '../Resources/GCP.pdf', 'page': 256}</td>\n",
       "      <td>[-0.00578530877828598, -0.055202335119247437, ...</td>\n",
       "    </tr>\n",
       "    <tr>\n",
       "      <th>1764</th>\n",
       "      <td>activities and accesses within your Google Clo...</td>\n",
       "      <td>{'source': '../Resources/GCP.pdf', 'page': 256}</td>\n",
       "      <td>[-0.04275853559374809, -0.009766227565705776, ...</td>\n",
       "    </tr>\n",
       "    <tr>\n",
       "      <th>1765</th>\n",
       "      <td>native network threat detection from malware, ...</td>\n",
       "      <td>{'source': '../Resources/GCP.pdf', 'page': 256}</td>\n",
       "      <td>[-0.090774767100811, -0.05555233359336853, 0.0...</td>\n",
       "    </tr>\n",
       "    <tr>\n",
       "      <th>1766</th>\n",
       "      <td>WILEY END USER LICENSE AGREEMENT\\nGo to www.wi...</td>\n",
       "      <td>{'source': '../Resources/GCP.pdf', 'page': 257}</td>\n",
       "      <td>[-0.032871268689632416, -0.015755552798509598,...</td>\n",
       "    </tr>\n",
       "  </tbody>\n",
       "</table>\n",
       "<p>1767 rows × 3 columns</p>\n",
       "</div>"
      ],
      "text/plain": [
       "                                           page_content  \\\n",
       "0     Visualizing\\nVergadia816324_ffirs.indd   1 25-...   \n",
       "1     Vergadia816324_ffirs.indd   2 25-02-2022   15:...   \n",
       "2     Priyanka Vergadia\\nIllustrated References for ...   \n",
       "3     Copyright © 2022 by Google, LLC. All rights re...   \n",
       "4     ISBN: 978- 1- 119- 81637- 9 (ebk)\\nISBN: 978- ...   \n",
       "...                                                 ...   \n",
       "1762  Security 247\\nSecurity Monitoring and Operatio...   \n",
       "1763  • Security Command Center: Continuously monito...   \n",
       "1764  activities and accesses within your Google Clo...   \n",
       "1765  native network threat detection from malware, ...   \n",
       "1766  WILEY END USER LICENSE AGREEMENT\\nGo to www.wi...   \n",
       "\n",
       "                                             metadata  \\\n",
       "0       {'source': '../Resources/GCP.pdf', 'page': 2}   \n",
       "1       {'source': '../Resources/GCP.pdf', 'page': 3}   \n",
       "2       {'source': '../Resources/GCP.pdf', 'page': 4}   \n",
       "3       {'source': '../Resources/GCP.pdf', 'page': 5}   \n",
       "4       {'source': '../Resources/GCP.pdf', 'page': 5}   \n",
       "...                                               ...   \n",
       "1762  {'source': '../Resources/GCP.pdf', 'page': 256}   \n",
       "1763  {'source': '../Resources/GCP.pdf', 'page': 256}   \n",
       "1764  {'source': '../Resources/GCP.pdf', 'page': 256}   \n",
       "1765  {'source': '../Resources/GCP.pdf', 'page': 256}   \n",
       "1766  {'source': '../Resources/GCP.pdf', 'page': 257}   \n",
       "\n",
       "                                             embeddings  \n",
       "0     [0.017832061275839806, 0.02583828940987587, -0...  \n",
       "1     [-0.036654166877269745, 0.03949139639735222, -...  \n",
       "2     [-0.017715079709887505, 0.07079383730888367, -...  \n",
       "3     [-0.0044191270135343075, -0.021689217537641525...  \n",
       "4     [-0.07486551254987717, 0.046314872801303864, -...  \n",
       "...                                                 ...  \n",
       "1762  [-0.02674219012260437, -0.05542406812310219, -...  \n",
       "1763  [-0.00578530877828598, -0.055202335119247437, ...  \n",
       "1764  [-0.04275853559374809, -0.009766227565705776, ...  \n",
       "1765  [-0.090774767100811, -0.05555233359336853, 0.0...  \n",
       "1766  [-0.032871268689632416, -0.015755552798509598,...  \n",
       "\n",
       "[1767 rows x 3 columns]"
      ]
     },
     "execution_count": 4,
     "metadata": {},
     "output_type": "execute_result"
    }
   ],
   "source": [
    "data_embeddings = created_embeddings(documents_data, embedding_function)\n",
    "data_embeddings"
   ]
  },
  {
   "cell_type": "code",
   "execution_count": 5,
   "metadata": {},
   "outputs": [],
   "source": [
    "#data_embeddings.to_pickle(\"../Resources/data_embeddings.pickle\")"
   ]
  },
  {
   "cell_type": "code",
   "execution_count": null,
   "metadata": {},
   "outputs": [],
   "source": []
  }
 ],
 "metadata": {
  "kernelspec": {
   "display_name": "venv",
   "language": "python",
   "name": "python3"
  },
  "language_info": {
   "codemirror_mode": {
    "name": "ipython",
    "version": 3
   },
   "file_extension": ".py",
   "mimetype": "text/x-python",
   "name": "python",
   "nbconvert_exporter": "python",
   "pygments_lexer": "ipython3",
   "version": "3.11.6"
  }
 },
 "nbformat": 4,
 "nbformat_minor": 2
}
