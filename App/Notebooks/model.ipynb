{
 "cells": [
  {
   "cell_type": "code",
   "execution_count": 47,
   "metadata": {},
   "outputs": [],
   "source": [
    "import pandas as pd\n",
    "import numpy as np\n",
    "from langchain_community.embeddings.sentence_transformer import (\n",
    "    SentenceTransformerEmbeddings,\n",
    ")\n",
    "from langchain.text_splitter import RecursiveCharacterTextSplitter\n",
    "from langchain.document_loaders import PyPDFLoader\n",
    "import os\n",
    "from dotenv import load_dotenv\n",
    "from langchain.chat_models import AzureChatOpenAI\n",
    "load_dotenv()\n",
    "import warnings\n",
    "warnings.filterwarnings(\"ignore\")\n",
    " \n",
    "api_key = os.getenv('OPENAI_API_KEY')\n",
    "model = AzureChatOpenAI(temperature=0, deployment_name=\"chat\")\n",
    "embedding_function = SentenceTransformerEmbeddings(model_name=\"all-MiniLM-L6-v2\")"
   ]
  },
  {
   "cell_type": "code",
   "execution_count": 48,
   "metadata": {},
   "outputs": [],
   "source": [
    "document = PyPDFLoader(\"../Resources/GCP.pdf\")\n",
    "data = document.load()\n",
    "text_splitter = RecursiveCharacterTextSplitter(\n",
    "        chunk_size = 500,\n",
    "        length_function = len,\n",
    "        chunk_overlap = 250\n",
    ")\n",
    "\n",
    "documents = text_splitter.split_documents(data)"
   ]
  },
  {
   "cell_type": "code",
   "execution_count": 67,
   "metadata": {},
   "outputs": [],
   "source": [
    "# Importación del pickle\n",
    "data_embeddings = pd.read_pickle(\"../Resources/data_embeddings.pickle\")\n",
    "data_embeddings = pd.DataFrame(data_embeddings)"
   ]
  },
  {
   "cell_type": "code",
   "execution_count": 45,
   "metadata": {},
   "outputs": [],
   "source": [
    "# Primera función\n",
    "def question_user(q:str, embeddings=embedding_function):\n",
    "  data_question = pd.DataFrame()\n",
    "  emb = []\n",
    "  q_list = []\n",
    "  emb.append(embeddings.embed_query(q))\n",
    "  q_list.append(q)\n",
    "  data_question[\"pregunta\"] = q_list\n",
    "  data_question[\"embedding_pregunta\"] = emb\n",
    "\n",
    "  return data_question\n",
    "\n",
    "def distance_vector(x, y):\n",
    "    return np.dot(np.array(x), np.array(y))\n",
    "\n",
    "\n",
    "\n",
    "# tercera función\n",
    "def filtered_docs(data:object, p:str, param:float):\n",
    "    data_sorted = data.sort_values(by = \"distancia\",ascending=False)\n",
    "    data_sorted = data_sorted[data_sorted[\"distancia\"] >= param]\n",
    "    content = data_sorted[\"metadata\"].tolist()\n",
    "    return content, p\n",
    "\n",
    "# Cuarta función\n",
    "def pages_number(pags:list):\n",
    "    list_pages = []\n",
    "    for pag in range(len(pags)):\n",
    "        list_pages.append(pags[pag][\"page\"])\n",
    "    list_pages = list(set(list_pages))\n",
    "    return list_pages\n",
    "\n",
    "# Quinta función\n",
    "def documents_prompt(documents:list, pages:list):\n",
    "    docs = []\n",
    "    for doc in range(len(documents)):\n",
    "        val_aux = documents[doc].metadata[\"page\"]\n",
    "        if val_aux in pages:\n",
    "            docs.append(documents[doc])\n",
    "        else:\n",
    "            continue\n",
    "    return docs\n",
    "\n",
    "\n"
   ]
  },
  {
   "cell_type": "code",
   "execution_count": 68,
   "metadata": {},
   "outputs": [],
   "source": [
    "# Example\n",
    "question = \"y para cloud storage?\"\n",
    "data_question = question_user(question)\n",
    "data_embeddings[\"distancia\"] = data_embeddings[\"embeddings\"].apply(lambda x: distance_vector(x,data_question.iloc[0,1]))\n"
   ]
  },
  {
   "cell_type": "code",
   "execution_count": 69,
   "metadata": {},
   "outputs": [
    {
     "data": {
      "text/html": [
       "<div>\n",
       "<style scoped>\n",
       "    .dataframe tbody tr th:only-of-type {\n",
       "        vertical-align: middle;\n",
       "    }\n",
       "\n",
       "    .dataframe tbody tr th {\n",
       "        vertical-align: top;\n",
       "    }\n",
       "\n",
       "    .dataframe thead th {\n",
       "        text-align: right;\n",
       "    }\n",
       "</style>\n",
       "<table border=\"1\" class=\"dataframe\">\n",
       "  <thead>\n",
       "    <tr style=\"text-align: right;\">\n",
       "      <th></th>\n",
       "      <th>page_content</th>\n",
       "      <th>metadata</th>\n",
       "      <th>embeddings</th>\n",
       "      <th>distancia</th>\n",
       "    </tr>\n",
       "  </thead>\n",
       "  <tbody>\n",
       "    <tr>\n",
       "      <th>227</th>\n",
       "      <td>Storage 31\\nFundamental characteristics of an ...</td>\n",
       "      <td>{'source': '../Resources/GCP.pdf', 'page': 40}</td>\n",
       "      <td>[-0.0017024035332724452, 0.01007207203656435, ...</td>\n",
       "      <td>0.649550</td>\n",
       "    </tr>\n",
       "    <tr>\n",
       "      <th>230</th>\n",
       "      <td>You can use cloud storage to store and serve s...</td>\n",
       "      <td>{'source': '../Resources/GCP.pdf', 'page': 40}</td>\n",
       "      <td>[-0.05700239539146423, -0.009095244109630585, ...</td>\n",
       "      <td>0.634676</td>\n",
       "    </tr>\n",
       "  </tbody>\n",
       "</table>\n",
       "</div>"
      ],
      "text/plain": [
       "                                          page_content  \\\n",
       "227  Storage 31\\nFundamental characteristics of an ...   \n",
       "230  You can use cloud storage to store and serve s...   \n",
       "\n",
       "                                           metadata  \\\n",
       "227  {'source': '../Resources/GCP.pdf', 'page': 40}   \n",
       "230  {'source': '../Resources/GCP.pdf', 'page': 40}   \n",
       "\n",
       "                                            embeddings  distancia  \n",
       "227  [-0.0017024035332724452, 0.01007207203656435, ...   0.649550  \n",
       "230  [-0.05700239539146423, -0.009095244109630585, ...   0.634676  "
      ]
     },
     "execution_count": 69,
     "metadata": {},
     "output_type": "execute_result"
    }
   ],
   "source": [
    "data_embeddings = data_embeddings.sort_values(by=\"distancia\", ascending=False)\n",
    "data_embeddings.head(2)"
   ]
  },
  {
   "cell_type": "code",
   "execution_count": 70,
   "metadata": {},
   "outputs": [],
   "source": [
    "pages, q = filtered_docs(data_embeddings, question, 0.60)"
   ]
  },
  {
   "cell_type": "code",
   "execution_count": 71,
   "metadata": {},
   "outputs": [
    {
     "data": {
      "text/plain": [
       "[39, 40, 104, 44, 52]"
      ]
     },
     "execution_count": 71,
     "metadata": {},
     "output_type": "execute_result"
    }
   ],
   "source": [
    "pages = pages_number(pages)\n",
    "pages"
   ]
  },
  {
   "cell_type": "code",
   "execution_count": 74,
   "metadata": {},
   "outputs": [
    {
     "data": {
      "text/plain": [
       "[Document(page_content='CHAPTER TWO\\nC loud storage is a simple, reliable, and scalable method for easily storing, retrieving, \\nand sharing data in the cloud. Cloud providers offer managed data storage services \\nthat eliminate the need for buying and managing your own storage infrastructure. Cloud \\nstorage gives you the flexibility to scale your storage infrastructure as needed, globally \\nand durably.Storage\\n30', metadata={'source': '../Resources/GCP.pdf', 'page': 39}),\n",
       " Document(page_content='Storage\\u200331\\nFundamental characteristics of an effective cloud storage ser -\\nvice include:\\n• Security\\xa0—  Data is stored securely (encrypted at rest and in transit).\\n• Durability\\xa0—  Data is stored redundantly, so it is not lost in the event of a  \\ndisruption.\\n• Availability\\xa0—  Data is available at all times, whenever it’s needed.\\nCommon cloud storage use cases include:\\n• Compliance and business continuity\\xa0 —  You can use cloud storage', metadata={'source': '../Resources/GCP.pdf', 'page': 40}),\n",
       " Document(page_content='disruption.\\n• Availability\\xa0—  Data is available at all times, whenever it’s needed.\\nCommon cloud storage use cases include:\\n• Compliance and business continuity\\xa0 —  You can use cloud storage \\nbackup and recovery capabilities to help meet compliance and business \\ncontinuity requirements.• Data lakes\\xa0 —  You can use data lakes based on cloud storage to store \\ninformation in its raw/native form with metadata for selective access \\nand data analysis.', metadata={'source': '../Resources/GCP.pdf', 'page': 40}),\n",
       " Document(page_content='continuity requirements.• Data lakes\\xa0 —  You can use data lakes based on cloud storage to store \\ninformation in its raw/native form with metadata for selective access \\nand data analysis.\\n• Application development\\xa0—  Storage is critical for development and testing. \\nYou can use cloud storage to store and serve static files (for websites) glob -\\nally, create fast applications, and deploy shared file systems across teams.\\nThis chapter covers the three types of cloud data storage: object storage,', metadata={'source': '../Resources/GCP.pdf', 'page': 40}),\n",
       " Document(page_content='You can use cloud storage to store and serve static files (for websites) glob -\\nally, create fast applications, and deploy shared file systems across teams.\\nThis chapter covers the three types of cloud data storage: object storage, \\nfile storage, and block storage. It also covers the distinct advantages and \\nuse cases for each type, as well as the Google Cloud storage options that \\nsupport them.', metadata={'source': '../Resources/GCP.pdf', 'page': 40}),\n",
       " Document(page_content='Storage\\u200335\\nCloud Storage is a global, secure, and scalable object store for immu-\\ntable data such as images, text, videos, and other file formats. You can \\nadd data to it or retrieve data from it as often as your application needs. \\nThe objects stored have an ID, metadata, attributes, and the actual \\ndata. The metadata can include all sorts of things, including the security \\nclassification of the file, the applications that can access it, and similar', metadata={'source': '../Resources/GCP.pdf', 'page': 44}),\n",
       " Document(page_content='The objects stored have an ID, metadata, attributes, and the actual \\ndata. The metadata can include all sorts of things, including the security \\nclassification of the file, the applications that can access it, and similar \\ninformation. The ID, metadata, and attributes make object storage an \\nappealing storage choice for a large variety of applications ranging from \\nweb serving to data analytics.\\nStorage Classes\\nYou store objects in buckets that are associated with a project, which are, in', metadata={'source': '../Resources/GCP.pdf', 'page': 44}),\n",
       " Document(page_content='appealing storage choice for a large variety of applications ranging from \\nweb serving to data analytics.\\nStorage Classes\\nYou store objects in buckets that are associated with a project, which are, in \\nturn, grouped under an organization. There are four storage classes that are \\nbased on budget, availability, and access frequency.\\n• Standard buckets, for high- performance, frequent access, and highest \\navailability\\n• Regional or dual- regional locations, for data accessed frequently or', metadata={'source': '../Resources/GCP.pdf', 'page': 44}),\n",
       " Document(page_content='based on budget, availability, and access frequency.\\n• Standard buckets, for high- performance, frequent access, and highest \\navailability\\n• Regional or dual- regional locations, for data accessed frequently or \\nhigh- throughput needs\\n• Multi- region, for serving content globally\\n• Nearline, for data accessed less than once a month\\n• Coldline, for data accessed roughly less than once a quarter\\n• Archive, for data that you want to put away for years (accessed less than \\nonce a year)', metadata={'source': '../Resources/GCP.pdf', 'page': 44}),\n",
       " Document(page_content='• Nearline, for data accessed less than once a month\\n• Coldline, for data accessed roughly less than once a quarter\\n• Archive, for data that you want to put away for years (accessed less than \\nonce a year)\\nIt costs a bit more to use standard storage because it is designed for \\nshort- lived and/or frequently accessed data. Nearline, coldline, and archive \\nstorage offer a lower monthly storage cost for longer- lived and less fre -\\nquently accessed data.\\nChoosing a Location for Your Use Case', metadata={'source': '../Resources/GCP.pdf', 'page': 44})]"
      ]
     },
     "execution_count": 74,
     "metadata": {},
     "output_type": "execute_result"
    }
   ],
   "source": [
    "docs_ = documents_prompt(documents, pages)\n",
    "docs_[:10]"
   ]
  },
  {
   "cell_type": "code",
   "execution_count": 65,
   "metadata": {},
   "outputs": [],
   "source": [
    "from langchain import PromptTemplate\n",
    "from langchain.memory import ConversationBufferWindowMemory\n",
    "\n",
    "\n",
    "template = \"\"\"\n",
    "Historial de la conversación: {chat_history}\n",
    "Tienes la siguiente información {context}\n",
    "y debes responder la siguiente pregunta {human_input}.\n",
    "Responde en español\n",
    "\"\"\"\n",
    "\n",
    "prompt = PromptTemplate(\n",
    "        input_variables = [\"context\",\"question\"],\n",
    "        template=template\n",
    ")\n",
    "from langchain.chains.question_answering import load_qa_chain\n",
    "llm_qa_documents = load_qa_chain(\n",
    "    model,\n",
    "    chain_type=\"stuff\",\n",
    "    prompt=prompt,\n",
    "    verbose=True,\n",
    "    memory = ConversationBufferWindowMemory(k=2, memory_key=\"chat_history\", input_key=\"human_input\")\n",
    ")\n"
   ]
  },
  {
   "cell_type": "code",
   "execution_count": 73,
   "metadata": {},
   "outputs": [
    {
     "name": "stdout",
     "output_type": "stream",
     "text": [
      "\n",
      "\n",
      "\u001b[1m> Entering new StuffDocumentsChain chain...\u001b[0m\n",
      "\n",
      "\n",
      "\u001b[1m> Entering new LLMChain chain...\u001b[0m\n",
      "Prompt after formatting:\n",
      "\u001b[32;1m\u001b[1;3m\n",
      "Historial de la conversación: Human: Que es BigQuery y cuales son sus casos de uso?\n",
      "AI: BigQuery es un servicio de análisis de datos en la nube proporcionado por Google Cloud. Es una base de datos escalable y completamente administrada que permite realizar consultas rápidas y complejas sobre grandes conjuntos de datos. \n",
      "\n",
      "Algunos casos de uso de BigQuery incluyen:\n",
      "\n",
      "1. Análisis de datos en tiempo real: BigQuery permite realizar consultas en tiempo real sobre datos en constante actualización, lo que lo hace ideal para aplicaciones que requieren análisis en tiempo real, como paneles de control y monitoreo de eventos.\n",
      "\n",
      "2. Análisis de datos masivos: BigQuery está diseñado para manejar grandes volúmenes de datos, lo que lo convierte en una opción adecuada para empresas que necesitan analizar grandes conjuntos de datos históricos o en tiempo real.\n",
      "\n",
      "3. Ciencia de datos y aprendizaje automático: BigQuery se integra con otras herramientas de Google Cloud, como TensorFlow, lo que permite realizar análisis avanzados y entrenar modelos de aprendizaje automático utilizando grandes conjuntos de datos.\n",
      "\n",
      "4. Análisis de registros y seguimiento de registros: BigQuery puede utilizarse para analizar registros de aplicaciones y sistemas, lo que ayuda a identificar patrones, detectar problemas y optimizar el rendimiento.\n",
      "\n",
      "En resumen, BigQuery es una poderosa herramienta de análisis de datos en la nube que se utiliza en una amplia gama de casos de uso, desde análisis en tiempo real hasta análisis de datos masivos y ciencia de datos.\n",
      "Tienes la siguiente información CHAPTER TWO\n",
      "C loud storage is a simple, reliable, and scalable method for easily storing, retrieving, \n",
      "and sharing data in the cloud. Cloud providers offer managed data storage services \n",
      "that eliminate the need for buying and managing your own storage infrastructure. Cloud \n",
      "storage gives you the flexibility to scale your storage infrastructure as needed, globally \n",
      "and durably.Storage\n",
      "30\n",
      "\n",
      "Storage 31\n",
      "Fundamental characteristics of an effective cloud storage ser -\n",
      "vice include:\n",
      "• Security —  Data is stored securely (encrypted at rest and in transit).\n",
      "• Durability —  Data is stored redundantly, so it is not lost in the event of a  \n",
      "disruption.\n",
      "• Availability —  Data is available at all times, whenever it’s needed.\n",
      "Common cloud storage use cases include:\n",
      "• Compliance and business continuity  —  You can use cloud storage\n",
      "\n",
      "disruption.\n",
      "• Availability —  Data is available at all times, whenever it’s needed.\n",
      "Common cloud storage use cases include:\n",
      "• Compliance and business continuity  —  You can use cloud storage \n",
      "backup and recovery capabilities to help meet compliance and business \n",
      "continuity requirements.• Data lakes  —  You can use data lakes based on cloud storage to store \n",
      "information in its raw/native form with metadata for selective access \n",
      "and data analysis.\n",
      "\n",
      "continuity requirements.• Data lakes  —  You can use data lakes based on cloud storage to store \n",
      "information in its raw/native form with metadata for selective access \n",
      "and data analysis.\n",
      "• Application development —  Storage is critical for development and testing. \n",
      "You can use cloud storage to store and serve static files (for websites) glob -\n",
      "ally, create fast applications, and deploy shared file systems across teams.\n",
      "This chapter covers the three types of cloud data storage: object storage,\n",
      "\n",
      "You can use cloud storage to store and serve static files (for websites) glob -\n",
      "ally, create fast applications, and deploy shared file systems across teams.\n",
      "This chapter covers the three types of cloud data storage: object storage, \n",
      "file storage, and block storage. It also covers the distinct advantages and \n",
      "use cases for each type, as well as the Google Cloud storage options that \n",
      "support them.\n",
      "\n",
      "Storage 35\n",
      "Cloud Storage is a global, secure, and scalable object store for immu-\n",
      "table data such as images, text, videos, and other file formats. You can \n",
      "add data to it or retrieve data from it as often as your application needs. \n",
      "The objects stored have an ID, metadata, attributes, and the actual \n",
      "data. The metadata can include all sorts of things, including the security \n",
      "classification of the file, the applications that can access it, and similar\n",
      "\n",
      "The objects stored have an ID, metadata, attributes, and the actual \n",
      "data. The metadata can include all sorts of things, including the security \n",
      "classification of the file, the applications that can access it, and similar \n",
      "information. The ID, metadata, and attributes make object storage an \n",
      "appealing storage choice for a large variety of applications ranging from \n",
      "web serving to data analytics.\n",
      "Storage Classes\n",
      "You store objects in buckets that are associated with a project, which are, in\n",
      "\n",
      "appealing storage choice for a large variety of applications ranging from \n",
      "web serving to data analytics.\n",
      "Storage Classes\n",
      "You store objects in buckets that are associated with a project, which are, in \n",
      "turn, grouped under an organization. There are four storage classes that are \n",
      "based on budget, availability, and access frequency.\n",
      "• Standard buckets, for high- performance, frequent access, and highest \n",
      "availability\n",
      "• Regional or dual- regional locations, for data accessed frequently or\n",
      "\n",
      "based on budget, availability, and access frequency.\n",
      "• Standard buckets, for high- performance, frequent access, and highest \n",
      "availability\n",
      "• Regional or dual- regional locations, for data accessed frequently or \n",
      "high- throughput needs\n",
      "• Multi- region, for serving content globally\n",
      "• Nearline, for data accessed less than once a month\n",
      "• Coldline, for data accessed roughly less than once a quarter\n",
      "• Archive, for data that you want to put away for years (accessed less than \n",
      "once a year)\n",
      "\n",
      "• Nearline, for data accessed less than once a month\n",
      "• Coldline, for data accessed roughly less than once a quarter\n",
      "• Archive, for data that you want to put away for years (accessed less than \n",
      "once a year)\n",
      "It costs a bit more to use standard storage because it is designed for \n",
      "short- lived and/or frequently accessed data. Nearline, coldline, and archive \n",
      "storage offer a lower monthly storage cost for longer- lived and less fre -\n",
      "quently accessed data.\n",
      "Choosing a Location for Your Use Case\n",
      "y debes responder la siguiente pregunta y para cloud storage?.\n",
      "Responde en español\n",
      "\u001b[0m\n",
      "\n",
      "\u001b[1m> Finished chain.\u001b[0m\n",
      "\n",
      "\u001b[1m> Finished chain.\u001b[0m\n"
     ]
    },
    {
     "data": {
      "text/plain": [
       "'Cloud Storage es un servicio de almacenamiento en la nube que proporciona una forma simple, confiable y escalable de almacenar, recuperar y compartir datos en la nube. Algunos casos de uso comunes de Cloud Storage incluyen:\\n\\n1. Cumplimiento y continuidad del negocio: puedes utilizar el almacenamiento en la nube para realizar copias de seguridad y recuperación de datos, lo que te ayuda a cumplir con los requisitos de cumplimiento y garantizar la continuidad del negocio.\\n\\n2. Data lakes: puedes utilizar data lakes basados en almacenamiento en la nube para almacenar información en su forma cruda/nativa con metadatos para un acceso selectivo y análisis de datos.\\n\\n3. Desarrollo de aplicaciones: el almacenamiento es fundamental para el desarrollo y prueba de aplicaciones. Puedes utilizar el almacenamiento en la nube para almacenar y servir archivos estáticos (para sitios web) de forma global, crear aplicaciones rápidas e implementar sistemas de archivos compartidos entre equipos.\\n\\nCloud Storage ofrece diferentes clases de almacenamiento, como buckets estándar, ubicaciones regionales o duales, multi-región, Nearline, Coldline y Archive, que se adaptan a diferentes necesidades de presupuesto, disponibilidad y frecuencia de acceso.\\n\\nEn resumen, Cloud Storage es un servicio de almacenamiento en la nube que ofrece seguridad, durabilidad y disponibilidad de datos, y se utiliza en una variedad de casos de uso, desde cumplimiento y continuidad del negocio hasta desarrollo de aplicaciones y almacenamiento de data lakes.'"
      ]
     },
     "execution_count": 73,
     "metadata": {},
     "output_type": "execute_result"
    }
   ],
   "source": [
    "llm_qa_documents.run(input_documents=docs_[:10], human_input=question)"
   ]
  },
  {
   "cell_type": "code",
   "execution_count": null,
   "metadata": {},
   "outputs": [],
   "source": []
  }
 ],
 "metadata": {
  "kernelspec": {
   "display_name": "venv",
   "language": "python",
   "name": "python3"
  },
  "language_info": {
   "codemirror_mode": {
    "name": "ipython",
    "version": 3
   },
   "file_extension": ".py",
   "mimetype": "text/x-python",
   "name": "python",
   "nbconvert_exporter": "python",
   "pygments_lexer": "ipython3",
   "version": "3.11.6"
  }
 },
 "nbformat": 4,
 "nbformat_minor": 2
}
